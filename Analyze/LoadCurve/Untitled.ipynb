{
 "cells": [
  {
   "cell_type": "code",
   "execution_count": null,
   "metadata": {},
   "outputs": [],
   "source": [
    "#Import packages\n",
    "import numpy as np\n",
    "import matplotlib.pyplot as plt\n",
    "import sys\n",
    "import time as tm\n",
    "import datetime as dt\n",
    "import scipy.optimize as opt"
   ]
  },
  {
   "cell_type": "code",
   "execution_count": null,
   "metadata": {},
   "outputs": [],
   "source": [
    "#Define functions\n",
    "\n",
    "#Fit function\n",
    "def fitFunc(x, A, B, C, D, E):\n",
    "    return A/(np.exp(B*x + C) + D) + E\n",
    "\n",
    "#Fit function if ideal fit fails -- fifth-order polynomial\n",
    "def fitFunc_arb(x, A, B, C, D, E):\n",
    "    return A + B*x + C*x**2 + D*x**3 + E*x**4\n",
    "\n",
    "#Function to fit the data\n",
    "def fit(x, y):\n",
    "    try:\n",
    "        popt = opt.curve_fit(fitFunc, x, y)[0]\n",
    "        yfit = fitFunc(x, *popt)\n",
    "        yend = fitFunc(100, *popt) #Temperature after 100 hours\n",
    "    except:\n",
    "        popt = opt.curve_fit(fitFunc_arb, x, y)[0]\n",
    "        print popt\n",
    "        yfit = fitFunc_arb(x, *popt)\n",
    "        yend = fitFunc_arb(100, *popt) #Temperature after 100 hours\n",
    "    return yfit, yend\n",
    "\n",
    "#Convert Kikusui logger file time to binary time\n",
    "def tConv(time):\n",
    "    arr = time.rstrip(']').lstrip('[').split()\n",
    "    year, month, day = arr[0].split('-')\n",
    "    hour, minute, sec = arr[1].split(':')\n",
    "    dt = datetime.datetime(int(year), int(month), int(day), int(hour), int(minute), int(sec))\n",
    "    btime = tm.mktime(dt.timetuple())\n",
    "    return int(btime)\n",
    "\n",
    "#Generate start and end times for voltage steps\n",
    "def genTimes(karr):\n",
    "    start = 'initial current' #Flag for start of voltage step\n",
    "    finish = 'final current' #Flat for end of voltage step\n",
    "    power = 'final power'\n",
    "    stimes = []\n",
    "    ftimes = []\n",
    "    powers = []\n",
    "    for i in range(len(karr[0])):\n",
    "        if start in karr[1][i]:\n",
    "            stimes.append(tConv(karr[0][i]))\n",
    "        elif finish in karr[1][i]:\n",
    "            ftimes.append(tConv(karr[0][i]))\n",
    "        elif power in karr[1][i]:\n",
    "            powers.append(float(karr[1][i].split()[-2]))\n",
    "        else:\n",
    "            continue\n",
    "    return stimes, ftimes, powers"
   ]
  }
 ],
 "metadata": {
  "kernelspec": {
   "display_name": "Python 3",
   "language": "python",
   "name": "python3"
  },
  "language_info": {
   "codemirror_mode": {
    "name": "ipython",
    "version": 3
   },
   "file_extension": ".py",
   "mimetype": "text/x-python",
   "name": "python",
   "nbconvert_exporter": "python",
   "pygments_lexer": "ipython3",
   "version": "3.7.0"
  }
 },
 "nbformat": 4,
 "nbformat_minor": 2
}
